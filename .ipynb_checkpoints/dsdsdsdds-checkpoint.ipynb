{
 "cells": [
  {
   "cell_type": "markdown",
   "metadata": {},
   "source": [
    "# ATM Machine"
   ]
  },
  {
   "cell_type": "markdown",
   "metadata": {},
   "source": [
    "This is ATM Machine created by Syed Saad under the supervision of Sir Nasir Hussain."
   ]
  },
  {
   "cell_type": "code",
   "execution_count": 3,
   "metadata": {},
   "outputs": [
    {
     "name": "stdout",
     "output_type": "stream",
     "text": [
      "Enter Account Number 123456789\n",
      "Enter Your Pin 1234\n",
      "Please Select Any One Of The Following Options ex: 1 For Balance Inquirey \n",
      "1. Balance Inquirey \n",
      "2. Withdrawal \n",
      "3. Deposit \n",
      "1\n",
      "Thank You For Using Our ATM \n",
      "Your Balance Is 100000 \n"
     ]
    }
   ],
   "source": [
    "Account_Number = int(input('Enter Account Number ')) #Account No.:123456789 & Pin:1234\n",
    "Pin = int(input('Enter Your Pin '))\n",
    "Bal = 100000\n",
    "if Account_Number == 123456789 and Pin == 1234:\n",
    "    print('Please Select Any One Of The Following Options ex: 1 For Balance Inquirey ')\n",
    "    print('1. Balance Inquirey ')\n",
    "    print('2. Withdrawal ')\n",
    "    print('3. Deposit ')\n",
    "    option = int(input())\n",
    "    if option == 1:\n",
    "        print('Thank You For Using Our ATM ')\n",
    "        print(f'Your Balance Is {Bal} ')\n",
    "    elif option == 2:\n",
    "        Withdrawal=int(input('How Much Money Do You Want To Withdrawed? '))\n",
    "        Bal = Bal-Withdrawal\n",
    "        if Withdrawal <=Bal:\n",
    "            print('Thank You For Using Our ATM ')\n",
    "            print('Please Collect Your Cash ')\n",
    "            print(f'Your Remaining Balance Is {Bal} ')\n",
    "        if Withdrawal >Bal:\n",
    "            print('Sorry, You Have Insufficient Balance For This Request ')\n",
    "    elif option == 3:\n",
    "        Deposit = int(input('How Much Money Do You Want To Deposit? '))\n",
    "        Bal = Bal+Deposit\n",
    "        if Deposit >0:\n",
    "            print('Thank You For Using Our ATM ')\n",
    "            print('Deposit Is Successful ')\n",
    "            print(f'Your Balance Is {Bal} ')\n",
    "        if Deposit <0:\n",
    "            print('Please Enter Amount Greater Than 0 ')\n",
    "    elif option <=0 or option >3:\n",
    "        print('Entered Option is not defined')\n",
    "elif Account_Number !=123456789 and Pin == 1234:\n",
    "    print('Entered Account Number Does Not Match With Your Entered Pin')\n",
    "elif Account_Number == 123456789 and Pin != 1234:\n",
    "    print('Entered Pin Does Not Match With Your Entered Account Number')\n",
    "elif Account_Number !=123456789 and Pin != 1234:\n",
    "    print('Please Enter A Valid Account Number And Valid Pin')"
   ]
  },
  {
   "cell_type": "code",
   "execution_count": 26,
   "metadata": {},
   "outputs": [
    {
     "name": "stdout",
     "output_type": "stream",
     "text": [
      "Enter Your Pin 12\n",
      "Please Enter A Valid Pin \n",
      "Do you want to remove card: 'Yes' or 'No'no\n",
      "Enter Your Pin 12\n",
      "Please Enter A Valid Pin \n",
      "Do you want to remove card: 'Yes' or 'No'yes\n",
      "Thank You For Using Our ATM \n",
      "Please pick your ATM card \n"
     ]
    }
   ],
   "source": [
    "def remove_card():\n",
    "    remove_card = input('Do you want to remove card: \\'Yes\\' or \\'No\\'').title()\n",
    "    if remove_card == 'Yes':\n",
    "        print('Thank You For Using Our ATM ')\n",
    "        print('Please pick your ATM card ')\n",
    "    elif remove_card == 'No':\n",
    "        welcome()\n",
    "    else:\n",
    "        print('Invalid syntax')\n",
    "        welcome()\n",
    "\n",
    "def welcome():\n",
    "\n",
    "    Pin = int(input('Enter Your Pin '))  #Pin:1234\n",
    "    if Pin == 1234:\n",
    "        start()\n",
    "    elif Pin != 1234:\n",
    "        print('Please Enter A Valid Pin ')\n",
    "        remove_card()\n",
    "    \n",
    "            \n",
    "\n",
    "def start():\n",
    "    Bal = 100000\n",
    "    print('Please Select Any One Of The Following Options ex: 1 For Balance Inquirey ')\n",
    "    print('1. Balance Inquirey ')\n",
    "    print('2. Withdrawal ')\n",
    "    print('3. Deposit ')\n",
    "    option = int(input())\n",
    "    if option == 1:\n",
    "        print('Thank You For Using Our ATM ')\n",
    "        print(f'Your Balance Is {Bal} ')\n",
    "        quit()\n",
    "    elif option == 2:\n",
    "        Withdrawal=int(input('How Much Money Do You Want To Withdrawed? '))\n",
    "        Bal = Bal-Withdrawal\n",
    "        if Withdrawal <=Bal:\n",
    "            print('Thank You For Using Our ATM ')\n",
    "            print('Please Collect Your Cash ')\n",
    "            print(f'Your Remaining Balance Is {Bal} ')\n",
    "            quit()\n",
    "        if Withdrawal >Bal:\n",
    "            print('Sorry, You Have Insufficient Balance For This Request ')\n",
    "            quit()\n",
    "    elif option == 3:\n",
    "        Deposit = int(input('How Much Money Do You Want To Deposit? '))\n",
    "        Bal = Bal+Deposit\n",
    "        if Deposit >0:\n",
    "            print('Thank You For Using Our ATM ')\n",
    "            print('Deposit Is Successful ')\n",
    "            print(f'Your Balance Is {Bal} ')\n",
    "            quit()\n",
    "        if Deposit <0:\n",
    "            print('Please Enter Amount Greater Than 0 ')\n",
    "            quit()\n",
    "    elif option <=0 or option >3:\n",
    "        print('Entered Option is not defined')\n",
    "        quit()\n",
    "        \n",
    "def quit():\n",
    "    remove_card = input('Do you want to remove card: \\'Yes\\' or \\'No\\'').title()\n",
    "    if remove_card == 'Yes':\n",
    "        print('Thank You For Using Our ATM ')\n",
    "        print('Please pick your ATM card ')\n",
    "    elif remove_card == 'No':\n",
    "        start()\n",
    "    else:\n",
    "        print('Invalid syntax')\n",
    "        quit()\n",
    "welcome()"
   ]
  }
 ],
 "metadata": {
  "kernelspec": {
   "display_name": "Python 3",
   "language": "python",
   "name": "python3"
  },
  "language_info": {
   "codemirror_mode": {
    "name": "ipython",
    "version": 3
   },
   "file_extension": ".py",
   "mimetype": "text/x-python",
   "name": "python",
   "nbconvert_exporter": "python",
   "pygments_lexer": "ipython3",
   "version": "3.7.3"
  }
 },
 "nbformat": 4,
 "nbformat_minor": 2
}
