{
 "cells": [
  {
   "cell_type": "markdown",
   "metadata": {},
   "source": [
    "# ATM Machine"
   ]
  },
  {
   "cell_type": "markdown",
   "metadata": {},
   "source": [
    "This is ATM Machine created by Syed Saad under the supervision of Sir Nasir Hussain"
   ]
  },
  {
   "cell_type": "code",
   "execution_count": 1,
   "metadata": {},
   "outputs": [
    {
     "name": "stdout",
     "output_type": "stream",
     "text": [
      "Enter Account Number 2\n",
      "Enter Your Pin 2\n",
      "Please Enter A Valid Account Number And Valid Pin\n"
     ]
    }
   ],
   "source": [
    "Account_Number = int(input('Enter Account Number ')) #Account No.:123456789 & Pin:1122\n",
    "Pin = int(input('Enter Your Pin '))\n",
    "Bal = 50000\n",
    "if Account_Number == 123456789 and Pin == 1122:\n",
    "    print('Please Select Any One Of The Following Options ex: 1 For Balance Inquirey ')\n",
    "    print('1. Balance Inquirey ')\n",
    "    print('2. Withdrawal ')\n",
    "    print('3. Deposit ')\n",
    "    option = int(input())\n",
    "    if option == 1:\n",
    "        print('Thank You For Using Our ATM ')\n",
    "        print(f'Your Balance Is {Bal} ')\n",
    "    elif option == 2:\n",
    "        Withdrawal=int(input('How Much Money Do You Want To Withdrawed? '))\n",
    "        Bal = Bal-Withdrawal\n",
    "        if Withdrawal <=Bal:\n",
    "            print('Thank You For Using Our ATM ')\n",
    "            print('Please Collect Your Cash ')\n",
    "            print(f'Your Remaining Balance Is {Bal} ')\n",
    "        if Withdrawal >Bal:\n",
    "            print('Sorry, You Have Insufficient Balance For This Request ')\n",
    "    elif option == 3:\n",
    "        Deposit = int(input('How Much Money Do You Want To Deposit? '))\n",
    "        Bal = Bal+Deposit\n",
    "        if Deposit >0:\n",
    "            print('Thank You For Using Our ATM ')\n",
    "            print('Deposit Is Successful ')\n",
    "            print(f'Your Balance Is {Bal} ')\n",
    "        if Deposit <0:\n",
    "            print('Please Enter Amount Greater Than 0 ')\n",
    "    elif option <=0 or option >3:\n",
    "        print('Entered Option is not defined')\n",
    "elif Account_Number !=123456789 and Pin == 1122:\n",
    "    print('Entered Account Number Does Not Match With Your Entered Pin')\n",
    "elif Account_Number == 123456789 and Pin != 1122:\n",
    "    print('Entered Pin Does Not Match With Your Entered Account Number')\n",
    "elif Account_Number !=123456789 and Pin != 1122:\n",
    "    print('Please Enter A Valid Account Number And Valid Pin')"
   ]
  },
  {
   "cell_type": "code",
   "execution_count": null,
   "metadata": {},
   "outputs": [],
   "source": []
  }
 ],
 "metadata": {
  "kernelspec": {
   "display_name": "Python 3",
   "language": "python",
   "name": "python3"
  },
  "language_info": {
   "codemirror_mode": {
    "name": "ipython",
    "version": 3
   },
   "file_extension": ".py",
   "mimetype": "text/x-python",
   "name": "python",
   "nbconvert_exporter": "python",
   "pygments_lexer": "ipython3",
   "version": "3.7.3"
  }
 },
 "nbformat": 4,
 "nbformat_minor": 2
}
